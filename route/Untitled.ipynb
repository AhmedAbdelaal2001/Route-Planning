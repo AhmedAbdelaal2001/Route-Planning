{
 "cells": [
  {
   "cell_type": "code",
   "execution_count": 4,
   "id": "286f1254",
   "metadata": {},
   "outputs": [
    {
     "ename": "ModuleNotFoundError",
     "evalue": "No module named 'osmium'",
     "output_type": "error",
     "traceback": [
      "\u001b[1;31m---------------------------------------------------------------------------\u001b[0m",
      "\u001b[1;31mModuleNotFoundError\u001b[0m                       Traceback (most recent call last)",
      "Cell \u001b[1;32mIn[4], line 3\u001b[0m\n\u001b[0;32m      1\u001b[0m \u001b[38;5;28;01mfrom\u001b[39;00m \u001b[38;5;21;01mtyping\u001b[39;00m \u001b[38;5;28;01mimport\u001b[39;00m List, Tuple\n\u001b[1;32m----> 3\u001b[0m \u001b[38;5;28;01mfrom\u001b[39;00m \u001b[38;5;21;01mmapUtil\u001b[39;00m \u001b[38;5;28;01mimport\u001b[39;00m (\n\u001b[0;32m      4\u001b[0m     CityMap,\n\u001b[0;32m      5\u001b[0m     computeDistance,\n\u001b[0;32m      6\u001b[0m     createStanfordMap,\n\u001b[0;32m      7\u001b[0m     locationFromTag,\n\u001b[0;32m      8\u001b[0m     makeTag,\n\u001b[0;32m      9\u001b[0m )\n\u001b[0;32m     10\u001b[0m \u001b[38;5;28;01mfrom\u001b[39;00m \u001b[38;5;21;01mutil\u001b[39;00m \u001b[38;5;28;01mimport\u001b[39;00m Heuristic, SearchProblem, State, UniformCostSearch\n",
      "File \u001b[1;32m~\\Downloads\\route\\route\\mapUtil.py:7\u001b[0m\n\u001b[0;32m      4\u001b[0m \u001b[38;5;28;01mfrom\u001b[39;00m \u001b[38;5;21;01mmath\u001b[39;00m \u001b[38;5;28;01mimport\u001b[39;00m asin, cos, radians, sin, sqrt\n\u001b[0;32m      5\u001b[0m \u001b[38;5;28;01mfrom\u001b[39;00m \u001b[38;5;21;01mtyping\u001b[39;00m \u001b[38;5;28;01mimport\u001b[39;00m Dict, List, Optional, Set, Tuple\n\u001b[1;32m----> 7\u001b[0m \u001b[38;5;28;01mimport\u001b[39;00m \u001b[38;5;21;01mosmium\u001b[39;00m\n\u001b[0;32m      8\u001b[0m \u001b[38;5;28;01mfrom\u001b[39;00m \u001b[38;5;21;01mosmium\u001b[39;00m \u001b[38;5;28;01mimport\u001b[39;00m osm\n\u001b[0;32m     10\u001b[0m \u001b[38;5;66;03m# Constants\u001b[39;00m\n",
      "\u001b[1;31mModuleNotFoundError\u001b[0m: No module named 'osmium'"
     ]
    }
   ],
   "source": [
    "from typing import List, Tuple\n",
    "\n",
    "from mapUtil import (\n",
    "    CityMap,\n",
    "    computeDistance,\n",
    "    createStanfordMap,\n",
    "    locationFromTag,\n",
    "    makeTag,\n",
    ")\n",
    "from util import Heuristic, SearchProblem, State, UniformCostSearch"
   ]
  }
 ],
 "metadata": {
  "kernelspec": {
   "display_name": "Python 3 (ipykernel)",
   "language": "python",
   "name": "python3"
  },
  "language_info": {
   "codemirror_mode": {
    "name": "ipython",
    "version": 3
   },
   "file_extension": ".py",
   "mimetype": "text/x-python",
   "name": "python",
   "nbconvert_exporter": "python",
   "pygments_lexer": "ipython3",
   "version": "3.10.9"
  }
 },
 "nbformat": 4,
 "nbformat_minor": 5
}
